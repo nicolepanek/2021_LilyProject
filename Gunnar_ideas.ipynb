{
  "nbformat": 4,
  "nbformat_minor": 0,
  "metadata": {
    "colab": {
      "name": "Gunnar_ideas.ipynb",
      "provenance": []
    },
    "kernelspec": {
      "name": "python3",
      "display_name": "Python 3"
    },
    "language_info": {
      "name": "python"
    },
    "widgets": {
      "application/vnd.jupyter.widget-state+json": {
        "3852ff920eb74a0b8e4264785a1fe4c2": {
          "model_module": "@jupyter-widgets/controls",
          "model_name": "VBoxModel",
          "state": {
            "_view_name": "VBoxView",
            "_dom_classes": [
              "widget-interact"
            ],
            "_model_name": "VBoxModel",
            "_view_module": "@jupyter-widgets/controls",
            "_model_module_version": "1.5.0",
            "_view_count": null,
            "_view_module_version": "1.5.0",
            "box_style": "",
            "layout": "IPY_MODEL_41b86e82162946bfa67f96bf1cd97813",
            "_model_module": "@jupyter-widgets/controls",
            "children": [
              "IPY_MODEL_0ff5ee88dad7448eb6f0226576f9b3a3",
              "IPY_MODEL_d9794f096f5e4202b1ae8dd27de8b995"
            ]
          }
        },
        "41b86e82162946bfa67f96bf1cd97813": {
          "model_module": "@jupyter-widgets/base",
          "model_name": "LayoutModel",
          "state": {
            "_view_name": "LayoutView",
            "grid_template_rows": null,
            "right": null,
            "justify_content": null,
            "_view_module": "@jupyter-widgets/base",
            "overflow": null,
            "_model_module_version": "1.2.0",
            "_view_count": null,
            "flex_flow": null,
            "width": null,
            "min_width": null,
            "border": null,
            "align_items": null,
            "bottom": null,
            "_model_module": "@jupyter-widgets/base",
            "top": null,
            "grid_column": null,
            "overflow_y": null,
            "overflow_x": null,
            "grid_auto_flow": null,
            "grid_area": null,
            "grid_template_columns": null,
            "flex": null,
            "_model_name": "LayoutModel",
            "justify_items": null,
            "grid_row": null,
            "max_height": null,
            "align_content": null,
            "visibility": null,
            "align_self": null,
            "height": null,
            "min_height": null,
            "padding": null,
            "grid_auto_rows": null,
            "grid_gap": null,
            "max_width": null,
            "order": null,
            "_view_module_version": "1.2.0",
            "grid_template_areas": null,
            "object_position": null,
            "object_fit": null,
            "grid_auto_columns": null,
            "margin": null,
            "display": null,
            "left": null
          }
        },
        "0ff5ee88dad7448eb6f0226576f9b3a3": {
          "model_module": "@jupyter-widgets/controls",
          "model_name": "IntSliderModel",
          "state": {
            "_view_name": "IntSliderView",
            "style": "IPY_MODEL_ef55339b448d43a1aa5861c935dae80d",
            "_dom_classes": [],
            "description": "i",
            "step": 1,
            "_model_name": "IntSliderModel",
            "orientation": "horizontal",
            "max": 615,
            "_view_module": "@jupyter-widgets/controls",
            "_model_module_version": "1.5.0",
            "value": 615,
            "_view_count": null,
            "disabled": false,
            "_view_module_version": "1.5.0",
            "min": 0,
            "continuous_update": true,
            "readout_format": "d",
            "description_tooltip": null,
            "readout": true,
            "_model_module": "@jupyter-widgets/controls",
            "layout": "IPY_MODEL_3aabe735d8f8415395813303a17fd6ea"
          }
        },
        "d9794f096f5e4202b1ae8dd27de8b995": {
          "model_module": "@jupyter-widgets/output",
          "model_name": "OutputModel",
          "state": {
            "_view_name": "OutputView",
            "msg_id": "",
            "_dom_classes": [],
            "_model_name": "OutputModel",
            "outputs": [
              {
                "output_type": "display_data",
                "metadata": {
                  "tags": [],
                  "needs_background": "light"
                },
                "image/png": "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\n",
                "text/plain": "<Figure size 576x576 with 1 Axes>"
              }
            ],
            "_view_module": "@jupyter-widgets/output",
            "_model_module_version": "1.0.0",
            "_view_count": null,
            "_view_module_version": "1.0.0",
            "layout": "IPY_MODEL_d759fa908d474b6589fc85e1c4ec4b17",
            "_model_module": "@jupyter-widgets/output"
          }
        },
        "ef55339b448d43a1aa5861c935dae80d": {
          "model_module": "@jupyter-widgets/controls",
          "model_name": "SliderStyleModel",
          "state": {
            "_view_name": "StyleView",
            "handle_color": null,
            "_model_name": "SliderStyleModel",
            "description_width": "",
            "_view_module": "@jupyter-widgets/base",
            "_model_module_version": "1.5.0",
            "_view_count": null,
            "_view_module_version": "1.2.0",
            "_model_module": "@jupyter-widgets/controls"
          }
        },
        "3aabe735d8f8415395813303a17fd6ea": {
          "model_module": "@jupyter-widgets/base",
          "model_name": "LayoutModel",
          "state": {
            "_view_name": "LayoutView",
            "grid_template_rows": null,
            "right": null,
            "justify_content": null,
            "_view_module": "@jupyter-widgets/base",
            "overflow": null,
            "_model_module_version": "1.2.0",
            "_view_count": null,
            "flex_flow": null,
            "width": null,
            "min_width": null,
            "border": null,
            "align_items": null,
            "bottom": null,
            "_model_module": "@jupyter-widgets/base",
            "top": null,
            "grid_column": null,
            "overflow_y": null,
            "overflow_x": null,
            "grid_auto_flow": null,
            "grid_area": null,
            "grid_template_columns": null,
            "flex": null,
            "_model_name": "LayoutModel",
            "justify_items": null,
            "grid_row": null,
            "max_height": null,
            "align_content": null,
            "visibility": null,
            "align_self": null,
            "height": null,
            "min_height": null,
            "padding": null,
            "grid_auto_rows": null,
            "grid_gap": null,
            "max_width": null,
            "order": null,
            "_view_module_version": "1.2.0",
            "grid_template_areas": null,
            "object_position": null,
            "object_fit": null,
            "grid_auto_columns": null,
            "margin": null,
            "display": null,
            "left": null
          }
        },
        "d759fa908d474b6589fc85e1c4ec4b17": {
          "model_module": "@jupyter-widgets/base",
          "model_name": "LayoutModel",
          "state": {
            "_view_name": "LayoutView",
            "grid_template_rows": null,
            "right": null,
            "justify_content": null,
            "_view_module": "@jupyter-widgets/base",
            "overflow": null,
            "_model_module_version": "1.2.0",
            "_view_count": null,
            "flex_flow": null,
            "width": null,
            "min_width": null,
            "border": null,
            "align_items": null,
            "bottom": null,
            "_model_module": "@jupyter-widgets/base",
            "top": null,
            "grid_column": null,
            "overflow_y": null,
            "overflow_x": null,
            "grid_auto_flow": null,
            "grid_area": null,
            "grid_template_columns": null,
            "flex": null,
            "_model_name": "LayoutModel",
            "justify_items": null,
            "grid_row": null,
            "max_height": null,
            "align_content": null,
            "visibility": null,
            "align_self": null,
            "height": null,
            "min_height": null,
            "padding": null,
            "grid_auto_rows": null,
            "grid_gap": null,
            "max_width": null,
            "order": null,
            "_view_module_version": "1.2.0",
            "grid_template_areas": null,
            "object_position": null,
            "object_fit": null,
            "grid_auto_columns": null,
            "margin": null,
            "display": null,
            "left": null
          }
        }
      }
    }
  },
  "cells": [
    {
      "cell_type": "code",
      "metadata": {
        "id": "2fMbTEJRt_D2"
      },
      "source": [
        "import matplotlib.pyplot as plt\n",
        "import numpy as np\n",
        "import urllib\n",
        "from skimage import img_as_float\n",
        "from skimage.transform import resize\n",
        "from skimage.morphology import skeletonize\n",
        "from skimage.morphology import binary_opening as opening\n",
        "from skimage.morphology import binary_closing as closing\n",
        "from skimage.morphology import binary_dilation as dilate\n",
        "from skimage.morphology import binary_erosion as erode\n",
        "from skimage.morphology import disk, label\n",
        "from skimage.measure import regionprops_table\n",
        "import pandas as pd\n",
        "from scipy.spatial.distance import euclidean\n",
        "import ipywidgets as widgets\n",
        "from ipywidgets import interact"
      ],
      "execution_count": 129,
      "outputs": []
    },
    {
      "cell_type": "code",
      "metadata": {
        "colab": {
          "base_uri": "https://localhost:8080/",
          "height": 286
        },
        "id": "7ggliYRiuZAg",
        "outputId": "30f8fd40-a938-48ab-de66-3e598c0223b7"
      },
      "source": [
        "urllib.request.urlretrieve('http://clipart-library.com/img1/703813.jpg', 'worm.jpg')\n",
        "im = plt.imread('worm.jpg', format='jpg')\n",
        "im = np.pad((255 - im[:,:,0]), 40)\n",
        "im = resize(img_as_float(im), (512,512)) > 0.5\n",
        "\n",
        "plt.imshow(im, cmap='gray')"
      ],
      "execution_count": 62,
      "outputs": [
        {
          "output_type": "execute_result",
          "data": {
            "text/plain": [
              "<matplotlib.image.AxesImage at 0x7f7465887e50>"
            ]
          },
          "metadata": {
            "tags": []
          },
          "execution_count": 62
        },
        {
          "output_type": "display_data",
          "data": {
            "image/png": "[encoded data removed]",
            "text/plain": [
              "<Figure size 432x288 with 1 Axes>"
            ]
          },
          "metadata": {
            "tags": [],
            "needs_background": "light"
          }
        }
      ]
    },
    {
      "cell_type": "code",
      "metadata": {
        "colab": {
          "base_uri": "https://localhost:8080/",
          "height": 411
        },
        "id": "9mLCSz1lunut",
        "outputId": "f718d317-76a0-43e5-ac85-6c2958754e5e"
      },
      "source": [
        "\n",
        "im_c = opening(im, disk(4))\n",
        "im_co = closing(im_c, disk(30))\n",
        "im_s = skeletonize(im_co)\n",
        "im_b = im ^ erode(im, disk(1))\n",
        "\n",
        "fig, ax = plt.subplots(figsize=(15,8), ncols=2)\n",
        "\n",
        "ax[0].imshow(im, cmap='gray')\n",
        "#ax[1].imshow(im_co, cmap='gray')\n",
        "ax[1].imshow(im_b, cmap='gray')\n",
        "\n",
        "for axi in ax:\n",
        "  axi.axis('off')"
      ],
      "execution_count": 119,
      "outputs": [
        {
          "output_type": "display_data",
          "data": {
            "image/png": "[encoded data removed]",
            "text/plain": [
              "<Figure size 1080x576 with 2 Axes>"
            ]
          },
          "metadata": {
            "tags": [],
            "needs_background": "light"
          }
        }
      ]
    },
    {
      "cell_type": "code",
      "metadata": {
        "id": "s6VaHejTvmjH"
      },
      "source": [
        "idxs = np.argwhere(im_s) # Find all coordinates of skeleton\n",
        "vs = np.diff(idxs, axis=0) # Calculate vectors to get direction of skeleton\n",
        "vo = vs[:, ::-1] # Get vectors perpendicular to skeleten\n",
        "vo[:,1] = -vo[:,1]\n",
        "\n"
      ],
      "execution_count": 82,
      "outputs": []
    },
    {
      "cell_type": "code",
      "metadata": {
        "id": "rR88s8l7vp_R"
      },
      "source": [
        "im_l = np.zeros((512,512)) > 0.5\n",
        "\n",
        "xi = np.linspace(0, 511, 512)\n",
        "\n",
        "x, y = np.meshgrid(xi, xi)\n",
        "\n",
        "for i in range(1):\n",
        "\n",
        "  if vo[i,0] == 0:\n",
        "    im_l[x == idxs[i+1,0]] = True\n",
        "\n",
        "  else:\n",
        "    m = vo[i,1]/vo[i,0]\n",
        "    b = idxs[i+1,1] - m*idxs[i+1,0]\n",
        "\n",
        "    im_l[np.abs(y - (m*x + b)) < 0.5] = True"
      ],
      "execution_count": 86,
      "outputs": []
    },
    {
      "cell_type": "code",
      "metadata": {
        "colab": {
          "base_uri": "https://localhost:8080/",
          "height": 286
        },
        "id": "Lx5ZsZpu1N0d",
        "outputId": "5fc7f4ce-4cd2-4728-c82a-0f9bf379cd1e"
      },
      "source": [
        "plt.imshow(im_l, cmap='gray')"
      ],
      "execution_count": 88,
      "outputs": [
        {
          "output_type": "execute_result",
          "data": {
            "text/plain": [
              "<matplotlib.image.AxesImage at 0x7f74653efb10>"
            ]
          },
          "metadata": {
            "tags": []
          },
          "execution_count": 88
        },
        {
          "output_type": "display_data",
          "data": {
            "image/png": "[encoded data removed]",
            "text/plain": [
              "<Figure size 432x288 with 1 Axes>"
            ]
          },
          "metadata": {
            "tags": [],
            "needs_background": "light"
          }
        }
      ]
    },
    {
      "cell_type": "code",
      "metadata": {
        "id": "XZxuXe3211fJ"
      },
      "source": [
        "def xsection(i=1):\n",
        "\n",
        "  im_l = np.zeros((512,512)) > 0.5 # Create an empty array of 0s to image with cross-section lines\n",
        "  xi = np.linspace(0, 511, 512) # Create grid of xy coordinates for Boolean operations\n",
        "  y, x = np.meshgrid(xi, xi)\n",
        "\n",
        "  if vo[i,0] == 0: # If the perpendicular vectors are vertical,\n",
        "    im_l[x == idxs[i+1,0]] = True # Then draw vertical line at x location of skeleton\n",
        "\n",
        "  else:\n",
        "    m = vo[i,1]/vo[i,0] # Calculate slope of perpendicular line\n",
        "    b = idxs[i+1,1] - m*idxs[i+1,0] # Calculate intercept of perpendicular line\n",
        "\n",
        "    im_l[np.abs(y - (m*x + b)) < 0.5] = True # Draw perpendicular line in binary image\n",
        "\n",
        "  # im_i = im_b & im_l\n",
        "  # ends = np.argwhere(im_i)\n",
        "  # dist = euclidean(ends[0,:], ends[1,:])\n",
        "\n",
        "  im_i = dilate(im_b, disk(3)) & im_l # Find intersections of border with perpendicular line\n",
        "  im_il = label(im_i) # Create labelled image of intersection points\n",
        "  regions = regionprops_table(im_il, properties=('label','centroid')) # Find centroids of intersection points\n",
        "  p1 = [regions['centroid-0'][0],regions['centroid-1'][0]]\n",
        "  p2 = [regions['centroid-0'][-1],regions['centroid-1'][-1]]\n",
        "  dist = euclidean(p1, p2) # Calculate distance between intersection points\n",
        "\n",
        "\n",
        "  fig, ax = plt.subplots(figsize=(8,8))\n",
        "  ax.axis('off')\n",
        "\n",
        "  ax.imshow(1 - dilate(im_l, disk(3)), cmap='gray', origin='lower')\n",
        "  ax.imshow(im, cmap='gray', alpha=0.5, origin='lower')\n",
        "  ax.text(400, 400, np.round(dist,1), fontsize=20)\n"
      ],
      "execution_count": 175,
      "outputs": []
    },
    {
      "cell_type": "code",
      "metadata": {
        "colab": {
          "base_uri": "https://localhost:8080/",
          "height": 516,
          "referenced_widgets": [
            "3852ff920eb74a0b8e4264785a1fe4c2",
            "41b86e82162946bfa67f96bf1cd97813",
            "0ff5ee88dad7448eb6f0226576f9b3a3",
            "d9794f096f5e4202b1ae8dd27de8b995",
            "ef55339b448d43a1aa5861c935dae80d",
            "3aabe735d8f8415395813303a17fd6ea",
            "d759fa908d474b6589fc85e1c4ec4b17"
          ]
        },
        "id": "woiSuJxT2gZt",
        "outputId": "a124eff6-e6b5-4033-b01c-8a18bb0c8955"
      },
      "source": [
        "interact(xsection, i=widgets.IntSlider(value=0, min=0, max=615, step=1))"
      ],
      "execution_count": 176,
      "outputs": [
        {
          "output_type": "display_data",
          "data": {
            "application/vnd.jupyter.widget-view+json": {
              "model_id": "3852ff920eb74a0b8e4264785a1fe4c2",
              "version_minor": 0,
              "version_major": 2
            },
            "text/plain": [
              "interactive(children=(IntSlider(value=0, description='i', max=615), Output()), _dom_classes=('widget-interact'…"
            ]
          },
          "metadata": {
            "tags": []
          }
        },
        {
          "output_type": "execute_result",
          "data": {
            "text/plain": [
              "<function __main__.xsection>"
            ]
          },
          "metadata": {
            "tags": []
          },
          "execution_count": 176
        }
      ]
    },
    {
      "cell_type": "code",
      "metadata": {
        "id": "e8M5DAyu-Gsv"
      },
      "source": [
        ""
      ],
      "execution_count": null,
      "outputs": []
    }
  ]
}