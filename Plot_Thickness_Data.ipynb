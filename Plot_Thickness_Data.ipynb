{
  "nbformat": 4,
  "nbformat_minor": 0,
  "metadata": {
    "colab": {
      "name": "Plot_Thickness_Data.ipynb",
      "provenance": [],
      "authorship_tag": "ABX9TyOXcdmCDj+rin8yOIIGvLT8"
    },
    "kernelspec": {
      "name": "python3",
      "display_name": "Python 3"
    },
    "language_info": {
      "name": "python"
    }
  },
  "cells": [
    {
      "cell_type": "code",
      "metadata": {
        "id": "AWvjRQxZlnYH"
      },
      "source": [
        "def plot_thickness_vs_width(thickness_data, figuresize, show_model='false'):\n",
        "  \"\"\"\n",
        "  Plots an array of consecutive thickness measurements.\n",
        "  \"\"\""
      ],
      "execution_count": null,
      "outputs": []
    },
    {
      "cell_type": "code",
      "metadata": {
        "id": "QoG37f-7l34l"
      },
      "source": [
        "\"\"\"\n",
        "Takes a data set containing thickness measurements \n",
        "for a single lily tepal and plots them. If desired, \n",
        "a model for lily thickness can also be plotted to \n",
        "compare (model comes from Mahadevan *et al.* 2011).\n",
        "\"\"\""
      ],
      "execution_count": null,
      "outputs": []
    },
    {
      "cell_type": "code",
      "metadata": {
        "id": "EEJtefOIerrY"
      },
      "source": [
        "\"\"\"\n",
        "Parameters\n",
        "----------\n",
        "thickness_data: 1D float array\n",
        "                data\n",
        "                array of data corresponding to consecutive \n",
        "                thickness measurements along the length of \n",
        "                the tepal\n",
        "figuresize    : 1x2 array\n",
        "                (width, height)\n",
        "                specifies the size of the produced figure\n",
        "show_model    : bool, default=false\n",
        "                setting determines if the model is shown on\n",
        "                the plot\n",
        "\"\"\""
      ],
      "execution_count": null,
      "outputs": []
    },
    {
      "cell_type": "code",
      "metadata": {
        "id": "ptsXha1foJ-5"
      },
      "source": [
        "\"\"\"\n",
        "Returns\n",
        "-------\n",
        "None"
      ],
      "execution_count": null,
      "outputs": []
    },
    {
      "cell_type": "code",
      "metadata": {
        "id": "uVJnoFCcfgSW"
      },
      "source": [
        "def plot_thickness_vs_width(thickness_data, figuresize, show_model='false'):\n",
        "\n",
        "  size = np.size(thickness_data)\n",
        "  \n",
        "  x = np.linspace(0,1,size)\n",
        "  \n",
        "  fig, ax = plt.subplots(figsize= figuresize)\n",
        "  \n",
        "  ax.plot(x, thickness_data, c='#000000', linewidth=1)\n",
        "  \n",
        "  if show_model == 'true':\n",
        "    y = np.linspace(0,1,1001)\n",
        "    model = np.max(thickness_data)*(1 - (y - 0.5)**2/(0.25))\n",
        "    ax.plot(y, model, c='#FF0000', linewidth=1)\n",
        "\n",
        "  else:\n",
        "    return\n",
        "\n",
        "  return"
      ],
      "execution_count": null,
      "outputs": []
    },
    {
      "cell_type": "code",
      "metadata": {
        "id": "3_9m6kMqpcsQ"
      },
      "source": [
        "\"\"\"\n",
        "Example\n",
        "-------\n",
        "import numpy as np\n",
        "import matplotlib.pyplot as plt\n",
        "\n",
        "# Make fake data for test\n",
        "\n",
        "x1 = np.linspace(0,1,100)\n",
        "fake_data = (1 - (x1 - 0.5)**2/0.25) + 0.04*np.random.randint(0,4,100)\n",
        "plt.plot(x1, fake_data)\n",
        "\n",
        "# Apply function\n",
        "\n",
        "plot_thickness_vs_width(fake_data, (10,10), show_model='true')\n",
        "\n",
        "\"\"\""
      ],
      "execution_count": null,
      "outputs": []
    }
  ]
}